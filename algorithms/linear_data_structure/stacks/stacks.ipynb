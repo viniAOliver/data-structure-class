{
 "cells": [
  {
   "cell_type": "code",
   "execution_count": 6,
   "id": "50135736",
   "metadata": {},
   "outputs": [],
   "source": [
    "class Empty(Exception):\n",
    "    \"\"\"Error attempting to access an element from an empty container.\"\"\"\n",
    "    pass\n",
    "\n",
    "class Full(Exception):\n",
    "    \"\"\"Error attempting add an element from an full container.\"\"\"\n",
    "    pass"
   ]
  },
  {
   "cell_type": "markdown",
   "id": "1f674ba4",
   "metadata": {},
   "source": [
    "### Exercise one\n",
    "\" Modify the ArrayStack implementation so that the stack’s capacity is limited to maxlen\n",
    "elements, where maxlen is an optional parameter to the constructor (that defaults to\n",
    "None). If push is called when the stack is at full capacity, throw a Full exception\n",
    "(defined similarly to Empty)\n",
    "\""
   ]
  },
  {
   "cell_type": "code",
   "execution_count": 9,
   "id": "d1010bc0",
   "metadata": {},
   "outputs": [],
   "source": [
    "class ArrayStack:\n",
    "  \"\"\"LIFO Stack implementation using a Python list as underlying storage.\"\"\"\n",
    "\n",
    "  def __init__(self, maxLen=None):\n",
    "    \"\"\"Create an empty stack.\"\"\"\n",
    "    self._data = []\n",
    "    self._maxLen = maxLen\n",
    "\n",
    "  def __len__(self):\n",
    "    \"\"\"Return the number of elements in the stack.\"\"\"\n",
    "    return len(self._data)\n",
    "\n",
    "  def is_empty(self):\n",
    "    \"\"\"Return True if the stack is empty.\"\"\"\n",
    "    return len(self._data) == 0\n",
    "  \n",
    "  def is_full(self):\n",
    "    \"\"\"Return True if the stack is full.\"\"\"\n",
    "    return len(self._data) == self._maxLen\n",
    "\n",
    "  def push(self, e):\n",
    "    \"\"\"Add element e to the top of the stack.\"\"\"\n",
    "    if self.is_full():\n",
    "      raise Full('Stack is full')\n",
    "    self._data.append(e)\n",
    "\n",
    "  def pop(self):\n",
    "    \"\"\"\n",
    "    Remove and return the element from the top of the stack (i.e., LIFO).\n",
    "    Raise Empty exception if the stack is empty.\n",
    "    \"\"\"\n",
    "    if self.is_empty():\n",
    "      raise Empty('Stack is empty')\n",
    "    return self._data.pop()\n",
    "  \n",
    "  def top(self):\n",
    "    \"\"\"\n",
    "    Return (but do not remove) the element at the top of the stack.\n",
    "    Raise Empty exception if the stack is empty.\n",
    "    \"\"\"\n",
    "    if self.is_empty():\n",
    "      raise Empty('Stack is empty')\n",
    "    return self._data[-1]"
   ]
  },
  {
   "cell_type": "markdown",
   "id": "b59c11e4",
   "metadata": {},
   "source": [
    "### Exercise two\n",
    "\" Redo that exercise, this time preallocating an underlying list with length equal to the\n",
    "stack’s maximum capacity\n",
    "\""
   ]
  },
  {
   "cell_type": "code",
   "execution_count": 11,
   "id": "1bb37044",
   "metadata": {},
   "outputs": [],
   "source": [
    "class ArrayStack:\n",
    "  \"\"\"LIFO Stack implementation using a Python list as underlying storage.\"\"\"\n",
    "\n",
    "  def __init__(self, maxLen):\n",
    "    \"\"\"Create an empty stack.\"\"\"\n",
    "    \n",
    "    if maxLen == None:\n",
    "        raise ValueError(\"maxlen must be provided for preallocated stack\")\n",
    "    \n",
    "    self._data = [None] * maxLen\n",
    "    self._maxLen = maxLen\n",
    "    self._size = 0\n",
    "\n",
    "  def __len__(self):\n",
    "    \"\"\"Return the number of elements in the stack.\"\"\"\n",
    "    return self._size\n",
    "\n",
    "  def is_empty(self):\n",
    "    \"\"\"Return True if the stack is empty.\"\"\"\n",
    "    return self._size == 0\n",
    "  \n",
    "  def is_full(self):\n",
    "    \"\"\"Return True if the stack is full.\"\"\"\n",
    "    return self._size >= self._maxLen\n",
    "\n",
    "  def push(self, e):\n",
    "    \"\"\"Add element e to the top of the stack.\"\"\"\n",
    "    if self.is_full():\n",
    "      raise Full('Stack is full')\n",
    "    self._data[self._size] = e\n",
    "    self._size += 1\n",
    "\n",
    "  def pop(self):\n",
    "    \"\"\"\n",
    "    Remove and return the element from the top of the stack (i.e., LIFO).\n",
    "    Raise Empty exception if the stack is empty.\n",
    "    \"\"\"\n",
    "    if self.is_empty():\n",
    "      raise Empty('Stack is empty')\n",
    "    poped = self._data[self._size - 1]\n",
    "    self._data[self._size - 1] = None\n",
    "    self._size -= 1\n",
    "    return poped\n",
    "  \n",
    "  def top(self):\n",
    "    \"\"\"\n",
    "    Return (but do not remove) the element at the top of the stack.\n",
    "    Raise Empty exception if the stack is empty.\n",
    "    \"\"\"\n",
    "    if self.is_empty():\n",
    "      raise Empty('Stack is empty')\n",
    "    return self._data[self._size -1]"
   ]
  },
  {
   "cell_type": "code",
   "execution_count": 14,
   "id": "c7d59bbd",
   "metadata": {},
   "outputs": [
    {
     "name": "stdout",
     "output_type": "stream",
     "text": [
      "2\n",
      "3\n",
      "False\n",
      "5\n",
      "True\n",
      "9\n"
     ]
    },
    {
     "ename": "Full",
     "evalue": "Stack is full",
     "output_type": "error",
     "traceback": [
      "\u001b[31m---------------------------------------------------------------------------\u001b[39m",
      "\u001b[31mFull\u001b[39m                                      Traceback (most recent call last)",
      "\u001b[36mCell\u001b[39m\u001b[36m \u001b[39m\u001b[32mIn[14]\u001b[39m\u001b[32m, line 12\u001b[39m\n\u001b[32m     10\u001b[39m S.push(\u001b[32m9\u001b[39m)\n\u001b[32m     11\u001b[39m \u001b[38;5;28mprint\u001b[39m(S.top())\n\u001b[32m---> \u001b[39m\u001b[32m12\u001b[39m \u001b[43mS\u001b[49m\u001b[43m.\u001b[49m\u001b[43mpush\u001b[49m\u001b[43m(\u001b[49m\u001b[32;43m4\u001b[39;49m\u001b[43m)\u001b[49m\n\u001b[32m     13\u001b[39m \u001b[38;5;28mprint\u001b[39m(\u001b[38;5;28mlen\u001b[39m(S))\n\u001b[32m     14\u001b[39m \u001b[38;5;28mprint\u001b[39m(S.pop())\n",
      "\u001b[36mCell\u001b[39m\u001b[36m \u001b[39m\u001b[32mIn[11]\u001b[39m\u001b[32m, line 29\u001b[39m, in \u001b[36mArrayStack.push\u001b[39m\u001b[34m(self, e)\u001b[39m\n\u001b[32m     27\u001b[39m \u001b[38;5;250m\u001b[39m\u001b[33;03m\"\"\"Add element e to the top of the stack.\"\"\"\u001b[39;00m\n\u001b[32m     28\u001b[39m \u001b[38;5;28;01mif\u001b[39;00m \u001b[38;5;28mself\u001b[39m.is_full():\n\u001b[32m---> \u001b[39m\u001b[32m29\u001b[39m   \u001b[38;5;28;01mraise\u001b[39;00m Full(\u001b[33m'\u001b[39m\u001b[33mStack is full\u001b[39m\u001b[33m'\u001b[39m)\n\u001b[32m     30\u001b[39m \u001b[38;5;28mself\u001b[39m._data[\u001b[38;5;28mself\u001b[39m._size] = e\n\u001b[32m     31\u001b[39m \u001b[38;5;28mself\u001b[39m._size += \u001b[32m1\u001b[39m\n",
      "\u001b[31mFull\u001b[39m: Stack is full"
     ]
    }
   ],
   "source": [
    "S = ArrayStack(maxLen=2)\n",
    "S.push(5)\n",
    "S.push(3)\n",
    "print(len(S))\n",
    "print(S.pop())\n",
    "print(S.is_empty())\n",
    "print(S.pop())\n",
    "print(S.is_empty())\n",
    "S.push(7)\n",
    "S.push(9)\n",
    "print(S.top())\n",
    "S.push(4)\n",
    "print(len(S))\n",
    "print(S.pop())\n",
    "S.push(6)\n",
    "S.push(8)\n",
    "print(S.pop())"
   ]
  }
 ],
 "metadata": {
  "kernelspec": {
   "display_name": "Python 3",
   "language": "python",
   "name": "python3"
  },
  "language_info": {
   "codemirror_mode": {
    "name": "ipython",
    "version": 3
   },
   "file_extension": ".py",
   "mimetype": "text/x-python",
   "name": "python",
   "nbconvert_exporter": "python",
   "pygments_lexer": "ipython3",
   "version": "3.11.9"
  }
 },
 "nbformat": 4,
 "nbformat_minor": 5
}
