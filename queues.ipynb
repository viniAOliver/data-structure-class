{
 "cells": [
  {
   "cell_type": "code",
   "execution_count": null,
   "id": "73ff5d99",
   "metadata": {},
   "outputs": [],
   "source": [
    "class Empty(Exception):\n",
    "    \"\"\"Error attempting to access an element from an empty container.\"\"\"\n",
    "    pass"
   ]
  },
  {
   "cell_type": "code",
   "execution_count": 47,
   "id": "761408e2",
   "metadata": {},
   "outputs": [],
   "source": [
    "class ArrayQueue:\n",
    "  \"\"\"FIFO queue implementation using a Python list as underlying storage.\"\"\"\n",
    "  DEFAULT_CAPACITY = 10\n",
    "\n",
    "  def __init__(self):\n",
    "    \"\"\"Create an empty queue.\"\"\"\n",
    "    self._data = [None] * ArrayQueue.DEFAULT_CAPACITY\n",
    "    self._size = 0\n",
    "    self._front = 0\n",
    "\n",
    "  def __len__(self):\n",
    "    \"\"\"Return the number of elements in the queue.\"\"\"\n",
    "    return self._size\n",
    "\n",
    "  def is_empty(self):\n",
    "    \"\"\"Return True if the queue is empty.\"\"\"\n",
    "    return self._size == 0\n",
    "\n",
    "  def first(self):\n",
    "    \"\"\"Return (but do not remove) the element at the front of the queue.\n",
    "\n",
    "    Raise Empty exception if the queue is empty.\n",
    "    \"\"\"\n",
    "    if self.is_empty():\n",
    "      raise Empty('Queue is empty')\n",
    "    return self._data[self._front]\n",
    "\n",
    "  def dequeue(self):\n",
    "    \"\"\"Remove and return the first element of the queue (i.e., FIFO).\n",
    "\n",
    "    Raise Empty exception if the queue is empty.\n",
    "    \"\"\"\n",
    "    if self.is_empty():\n",
    "      raise Empty('Queue is empty')\n",
    "    answer = self._data[self._front]\n",
    "    self._data[self._front] = None\n",
    "    self._front = (self._front + 1) % len(self._data)\n",
    "    self._size -= 1\n",
    "    self._shrink()\n",
    "    return answer\n",
    "\n",
    "  def enqueue(self, e):\n",
    "    \"\"\"Add an element to the back of queue.\"\"\"\n",
    "    if self._size == len(self._data):\n",
    "      self._resize(2 * len(self.data))\n",
    "    avail = (self._front + self._size) % len(self._data)\n",
    "    self._data[avail] = e\n",
    "    self._size += 1\n",
    "\n",
    "  def _resize(self, cap):\n",
    "    \"\"\"Resize to a new list of capacity >= len(self).\"\"\"\n",
    "    old = self._data\n",
    "    self._data = [None] * cap\n",
    "    walk = self._front\n",
    "    for k in range(self._size):\n",
    "      self._data[k] = old[walk]\n",
    "      walk = (1 + walk) % len(old)\n",
    "    self._front = 0\n",
    "\n",
    "  def _shrink(self):\n",
    "    \"\"\"Shrink the size of the list in half when the elements of the list are < than 1/4 its size.\"\"\"\n",
    "    actual_capacity = len(self._data)\n",
    "    if self._size < (actual_capacity / 4):\n",
    "      new_capacity = (actual_capacity / 2).__int__()\n",
    "      aux_list = [None] * new_capacity\n",
    "      for i in range(new_capacity):\n",
    "        if self._data[i] != None:\n",
    "          aux_list[i] = self._data[i]\n",
    "      self._data = aux_list\n",
    "    "
   ]
  },
  {
   "cell_type": "code",
   "execution_count": 49,
   "id": "bca6ec26",
   "metadata": {},
   "outputs": [
    {
     "name": "stdout",
     "output_type": "stream",
     "text": [
      "1@ [4, 47, 7, 8, 9, 9, None, None, None, None]\n",
      "2@ [None, None, None, None, 9]\n"
     ]
    }
   ],
   "source": [
    "queue = ArrayQueue()\n",
    "queue.enqueue(4)\n",
    "queue.enqueue(47)\n",
    "queue.enqueue(7)\n",
    "queue.enqueue(8)\n",
    "queue.enqueue(9)\n",
    "queue.enqueue(9)\n",
    "print(f'1@ {queue._data}')\n",
    "queue.dequeue()\n",
    "queue.dequeue()\n",
    "queue.dequeue()\n",
    "queue.dequeue()\n",
    "print(f'2@ {queue._data}')\n"
   ]
  }
 ],
 "metadata": {
  "kernelspec": {
   "display_name": "Python 3",
   "language": "python",
   "name": "python3"
  },
  "language_info": {
   "codemirror_mode": {
    "name": "ipython",
    "version": 3
   },
   "file_extension": ".py",
   "mimetype": "text/x-python",
   "name": "python",
   "nbconvert_exporter": "python",
   "pygments_lexer": "ipython3",
   "version": "3.11.9"
  }
 },
 "nbformat": 4,
 "nbformat_minor": 5
}
